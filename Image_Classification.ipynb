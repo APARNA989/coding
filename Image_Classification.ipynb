{
  "nbformat": 4,
  "nbformat_minor": 0,
  "metadata": {
    "colab": {
      "name": " Image Classification.ipynb",
      "provenance": [],
      "collapsed_sections": [],
      "authorship_tag": "ABX9TyMe5O+lyAiTBED3x5YcKm3E",
      "include_colab_link": true
    },
    "kernelspec": {
      "name": "python3",
      "display_name": "Python 3"
    },
    "language_info": {
      "name": "python"
    }
  },
  "cells": [
    {
      "cell_type": "markdown",
      "metadata": {
        "id": "view-in-github",
        "colab_type": "text"
      },
      "source": [
        "<a href=\"https://colab.research.google.com/github/APARNA989/coding/blob/main/Image_Classification.ipynb\" target=\"_parent\"><img src=\"https://colab.research.google.com/assets/colab-badge.svg\" alt=\"Open In Colab\"/></a>"
      ]
    },
    {
      "cell_type": "markdown",
      "metadata": {
        "id": "11lPyLVHo7XD"
      },
      "source": [
        "# New section"
      ]
    },
    {
      "cell_type": "markdown",
      "metadata": {
        "id": "TVijJL9hqsJd"
      },
      "source": [
        ""
      ]
    },
    {
      "cell_type": "code",
      "metadata": {
        "cellView": "code",
        "id": "zTmk4zMGoyfT"
      },
      "source": [
        "\n",
        "# Data : Images\n",
        "# 1. Download manually the images from Google\n",
        "# 2. Download dataset from kaggle.com\n",
        "# 3. Build a Image Web Crawler\n",
        "# 4. Use python librares to scrape the images (Using)"
      ],
      "execution_count": null,
      "outputs": []
    },
    {
      "cell_type": "code",
      "metadata": {
        "colab": {
          "base_uri": "https://localhost:8080/"
        },
        "id": "zZplU250rF0S",
        "outputId": "89a80237-2aff-4aeb-e679-6a72a11b2e25"
      },
      "source": [
        "!pip install bing-image-downloader"
      ],
      "execution_count": null,
      "outputs": [
        {
          "output_type": "stream",
          "text": [
            "Requirement already satisfied: bing-image-downloader in /usr/local/lib/python3.7/dist-packages (1.0.4)\n"
          ],
          "name": "stdout"
        }
      ]
    },
    {
      "cell_type": "code",
      "metadata": {
        "colab": {
          "base_uri": "https://localhost:8080/"
        },
        "id": "P9wG7cFKrjME",
        "outputId": "ba83f734-2262-4529-e127-68ed6ac4de8b"
      },
      "source": [
        "!mkdir images"
      ],
      "execution_count": null,
      "outputs": [
        {
          "output_type": "stream",
          "text": [
            "mkdir: cannot create directory ‘images’: File exists\n"
          ],
          "name": "stdout"
        }
      ]
    },
    {
      "cell_type": "code",
      "metadata": {
        "colab": {
          "base_uri": "https://localhost:8080/"
        },
        "id": "rFs3X2-2uqZF",
        "outputId": "b7dad282-8dde-47d2-dee2-97de98182171"
      },
      "source": [
        "from bing_image_downloader import downloader\n",
        "downloader.download(\"pretty sunflower\",limit=30,output_dir='images',\n",
        "                    adult_filter_off=True)\n"
      ],
      "execution_count": null,
      "outputs": [
        {
          "output_type": "stream",
          "text": [
            "\n",
            "\n",
            "[!!]Indexing page: 1\n",
            "\n",
            "[%] Indexed 12 Images on Page 1.\n",
            "\n",
            "===============================================\n",
            "\n",
            "[%] Downloading Image #1 from http://cooldigitalphotography.com/wp-content/uploads/2013/11/Sunflower10.jpg\n",
            "[%] File Downloaded !\n",
            "\n",
            "[%] Downloading Image #2 from https://img0.etsystatic.com/000/0/5463174/il_fullxfull.343753652.jpg\n",
            "[%] File Downloaded !\n",
            "\n",
            "[%] Downloading Image #3 from https://clipground.com/images/condolence-images-flowers-8.jpg\n",
            "[%] File Downloaded !\n",
            "\n",
            "[%] Downloading Image #4 from http://www.hdwallpapers.in/download/pure_red_sunflowers-1920x1200.jpg\n",
            "[%] File Downloaded !\n",
            "\n",
            "[%] Downloading Image #5 from https://www.askideas.com/media/06/Black-Sunflower-With-Leaves-Tattoo-Design-By-Jeremy-Peralta.jpg\n",
            "[%] File Downloaded !\n",
            "\n",
            "[%] Downloading Image #6 from http://pinteresting.involvery.com/wp-content/uploads/sites/15/2016/10/1252_1883327114-1.jpg\n",
            "[%] File Downloaded !\n",
            "\n",
            "[%] Downloading Image #7 from http://cdn-img.instyle.com/sites/default/files/styles/684xflex/public/1504809763/090717-sunflowers-at-weddings-2.jpg?itok=z4ANmOrG\n",
            "[%] File Downloaded !\n",
            "\n",
            "[%] Downloading Image #8 from http://www.prettydesigns.com/wp-content/uploads/2014/11/Flower-Tattoo1.jpg\n",
            "[%] File Downloaded !\n",
            "\n",
            "[%] Downloading Image #9 from http://cooldigitalphotography.com/wp-content/uploads/2013/11/Sunflower9.jpg\n",
            "[%] File Downloaded !\n",
            "\n",
            "[%] Downloading Image #10 from https://ohbestdayever.com/wp-content/uploads/2017/12/chic-rustic-sunflower-wedding-centerpiece-ideas-with-lanterns.jpg\n",
            "[%] File Downloaded !\n",
            "\n",
            "[%] Downloading Image #11 from http://wallpaperheart.com/wp-content/uploads/2018/08/wallpapers-pinterest-8.jpg\n",
            "[%] File Downloaded !\n",
            "\n",
            "[%] Downloading Image #12 from http://www.prettydesigns.com/wp-content/uploads/2014/09/Peony-Tattoo.jpg\n",
            "[%] File Downloaded !\n",
            "\n",
            "\n",
            "\n",
            "[!!]Indexing page: 2\n",
            "\n",
            "[%] Indexed 12 Images on Page 2.\n",
            "\n",
            "===============================================\n",
            "\n",
            "[%] Downloading Image #13 from http://cooldigitalphotography.com/wp-content/uploads/2013/11/Sunflower10.jpg\n",
            "[%] File Downloaded !\n",
            "\n",
            "[%] Downloading Image #14 from https://img0.etsystatic.com/000/0/5463174/il_fullxfull.343753652.jpg\n",
            "[%] File Downloaded !\n",
            "\n",
            "[%] Downloading Image #15 from https://clipground.com/images/condolence-images-flowers-8.jpg\n",
            "[%] File Downloaded !\n",
            "\n",
            "[%] Downloading Image #16 from http://www.hdwallpapers.in/download/pure_red_sunflowers-1920x1200.jpg\n",
            "[%] File Downloaded !\n",
            "\n",
            "[%] Downloading Image #17 from https://www.askideas.com/media/06/Black-Sunflower-With-Leaves-Tattoo-Design-By-Jeremy-Peralta.jpg\n",
            "[%] File Downloaded !\n",
            "\n",
            "[%] Downloading Image #18 from http://pinteresting.involvery.com/wp-content/uploads/sites/15/2016/10/1252_1883327114-1.jpg\n",
            "[%] File Downloaded !\n",
            "\n",
            "[%] Downloading Image #19 from http://cdn-img.instyle.com/sites/default/files/styles/684xflex/public/1504809763/090717-sunflowers-at-weddings-2.jpg?itok=z4ANmOrG\n",
            "[%] File Downloaded !\n",
            "\n",
            "[%] Downloading Image #20 from http://www.prettydesigns.com/wp-content/uploads/2014/11/Flower-Tattoo1.jpg\n",
            "[%] File Downloaded !\n",
            "\n",
            "[%] Downloading Image #21 from http://cooldigitalphotography.com/wp-content/uploads/2013/11/Sunflower9.jpg\n",
            "[%] File Downloaded !\n",
            "\n",
            "[%] Downloading Image #22 from https://ohbestdayever.com/wp-content/uploads/2017/12/chic-rustic-sunflower-wedding-centerpiece-ideas-with-lanterns.jpg\n",
            "[%] File Downloaded !\n",
            "\n",
            "[%] Downloading Image #23 from http://wallpaperheart.com/wp-content/uploads/2018/08/wallpapers-pinterest-8.jpg\n",
            "[%] File Downloaded !\n",
            "\n",
            "[%] Downloading Image #24 from http://www.prettydesigns.com/wp-content/uploads/2014/09/Peony-Tattoo.jpg\n",
            "[%] File Downloaded !\n",
            "\n",
            "\n",
            "\n",
            "[!!]Indexing page: 3\n",
            "\n",
            "[%] Indexed 11 Images on Page 3.\n",
            "\n",
            "===============================================\n",
            "\n",
            "[%] Downloading Image #25 from http://www.hdwallpapers.in/download/pure_red_sunflowers-1920x1200.jpg\n",
            "[%] File Downloaded !\n",
            "\n",
            "[%] Downloading Image #26 from https://img0.etsystatic.com/000/0/5463174/il_fullxfull.343753652.jpg\n",
            "[%] File Downloaded !\n",
            "\n",
            "[%] Downloading Image #27 from https://clipground.com/images/condolence-images-flowers-8.jpg\n",
            "[%] File Downloaded !\n",
            "\n",
            "[%] Downloading Image #28 from http://cdn-img.instyle.com/sites/default/files/styles/684xflex/public/1504809763/090717-sunflowers-at-weddings-2.jpg?itok=z4ANmOrG\n",
            "[%] File Downloaded !\n",
            "\n",
            "[%] Downloading Image #29 from https://ohbestdayever.com/wp-content/uploads/2017/12/chic-rustic-sunflower-wedding-centerpiece-ideas-with-lanterns.jpg\n",
            "[%] File Downloaded !\n",
            "\n",
            "[%] Downloading Image #30 from http://cooldigitalphotography.com/wp-content/uploads/2013/11/Sunflower9.jpg\n",
            "[%] File Downloaded !\n",
            "\n",
            "\n",
            "\n",
            "[%] Done. Downloaded 30 images.\n",
            "\n",
            "===============================================\n",
            "\n"
          ],
          "name": "stdout"
        }
      ]
    },
    {
      "cell_type": "code",
      "metadata": {
        "colab": {
          "base_uri": "https://localhost:8080/"
        },
        "id": "m8MNDaMxvsFE",
        "outputId": "b1b82885-4bc4-419c-e8e1-d73fb53b4fb2"
      },
      "source": [
        "from bing_image_downloader import downloader \n",
        "downloader.download(\"rugby ball leather\",limit=30,output_dir='images',\n",
        "                    adult_filter_off=True)"
      ],
      "execution_count": null,
      "outputs": [
        {
          "output_type": "stream",
          "text": [
            "\n",
            "\n",
            "[!!]Indexing page: 1\n",
            "\n",
            "[%] Indexed 12 Images on Page 1.\n",
            "\n",
            "===============================================\n",
            "\n",
            "[%] Downloading Image #1 from https://cdn.shopify.com/s/files/1/0788/5979/products/mvp-leather-balls-heritage-leather-rugby-ball-2_1024x1024.jpg?v=1550134680\n",
            "[%] File Downloaded !\n",
            "\n",
            "[%] Downloading Image #2 from https://img1.etsystatic.com/044/0/7864717/il_fullxfull.644349439_g0x6.jpg\n",
            "[%] File Downloaded !\n",
            "\n",
            "[%] Downloading Image #3 from https://static.vecteezy.com/system/resources/previews/000/111/555/original/hand-drawn-leather-football-vector-texture.jpg\n",
            "[%] File Downloaded !\n",
            "\n",
            "[%] Downloading Image #4 from https://www.john-woodbridge.com/1009-large_default/1930s-football.jpg\n",
            "[%] File Downloaded !\n",
            "\n",
            "[%] Downloading Image #5 from https://sc02.alicdn.com/kf/U4fbecee4121e4b7b8cf9acca310b2054f/1096099/U4fbecee4121e4b7b8cf9acca310b2054f.jpg\n",
            "[%] File Downloaded !\n",
            "\n",
            "[%] Downloading Image #6 from http://res.freestockphotos.biz/pictures/17/17113-illustration-of-a-football-pv.png\n",
            "[%] File Downloaded !\n",
            "\n",
            "[%] Downloading Image #7 from http://www.rugby-gifts.co.uk/ekmps/shops/rugbygifts/images/the-complete-rugby-fragrance-gift-set-74467-p.jpg\n",
            "[%] File Downloaded !\n",
            "\n",
            "[%] Downloading Image #8 from https://static.vecteezy.com/system/resources/previews/000/076/176/original/soccer-ball-vector.jpg\n",
            "[%] File Downloaded !\n",
            "\n",
            "[%] Downloading Image #9 from https://www.sportsballshop.co.uk/acatalog/gripcontrol1.jpg\n",
            "[%] File Downloaded !\n",
            "\n",
            "[%] Downloading Image #10 from https://medias.go-sport.com/media/resized/1300x/catalog/product/80/60/01/24/ballon-football-americain_4_v1.jpeg\n",
            "[Error]Invalid image, not saving https://medias.go-sport.com/media/resized/1300x/catalog/product/80/60/01/24/ballon-football-americain_4_v1.jpeg\n",
            "\n",
            "[!] Issue getting: https://medias.go-sport.com/media/resized/1300x/catalog/product/80/60/01/24/ballon-football-americain_4_v1.jpeg\n",
            "[!] Error:: No active exception to reraise\n",
            "[%] Downloading Image #10 from http://www.prodirectrugby.com/productimages/V3_1_Main/62296.jpg\n",
            "[!] Issue getting: http://www.prodirectrugby.com/productimages/V3_1_Main/62296.jpg\n",
            "[!] Error:: HTTP Error 403: Forbidden\n",
            "[%] Downloading Image #10 from http://www.historic-uk.com/wp-content/uploads/2017/06/history-of-cricket.jpg\n",
            "[%] File Downloaded !\n",
            "\n",
            "\n",
            "\n",
            "[!!]Indexing page: 2\n",
            "\n",
            "[%] Indexed 12 Images on Page 2.\n",
            "\n",
            "===============================================\n",
            "\n",
            "[%] Downloading Image #11 from https://cdn1.bigcommerce.com/server1000/4dd02/products/682/images/3492/_MG_0374v2__78298.1332357807.455.455.jpg?c=2\n",
            "[%] File Downloaded !\n",
            "\n",
            "[%] Downloading Image #12 from https://cdn.notonthehighstreet.com/fs/6d/b6/5cda-1aa6-492c-b641-ff1185634649/original_leather-rugby-shaped-washbag.jpg\n",
            "[%] File Downloaded !\n",
            "\n",
            "[%] Downloading Image #13 from https://cdn.notonthehighstreet.com/fs/14/cb/45f8-4377-4358-9cc0-36c127d448d0/original_personalised-vintage-leather-rugby-ball.jpg\n",
            "[%] File Downloaded !\n",
            "\n",
            "[%] Downloading Image #14 from https://static.vecteezy.com/system/resources/previews/000/104/104/original/vector-football-texture-and-lace.jpg\n",
            "[%] File Downloaded !\n",
            "\n",
            "[%] Downloading Image #15 from https://d2gg9evh47fn9z.cloudfront.net/800px_COLOURBOX19173696.jpg\n",
            "[%] File Downloaded !\n",
            "\n",
            "[%] Downloading Image #16 from https://www.rasasports.com/antiquefootball/image017.jpg\n",
            "[Error]Invalid image, not saving https://www.rasasports.com/antiquefootball/image017.jpg\n",
            "\n",
            "[!] Issue getting: https://www.rasasports.com/antiquefootball/image017.jpg\n",
            "[!] Error:: No active exception to reraise\n",
            "[%] Downloading Image #16 from https://cdn.pixabay.com/photo/2014/04/03/11/08/american-football-311817_640.png\n",
            "[%] File Downloaded !\n",
            "\n",
            "[%] Downloading Image #17 from https://media.istockphoto.com/vectors/football-drawing-vector-id490813150\n",
            "[%] File Downloaded !\n",
            "\n",
            "[%] Downloading Image #18 from https://www.john-woodbridge.com/1062-tm_thickbox_default/balle-de-baseball.jpg\n",
            "[%] File Downloaded !\n",
            "\n",
            "[%] Downloading Image #19 from https://cdn.theschoollocker.com.au/media/catalog/product/cache/1/image/500x650/9df78eab33525d08d6e5fb8d27136e95/s/h/sherrin_afl_ball_synthetic_size_2_red_11077_1_1.jpg\n",
            "[%] File Downloaded !\n",
            "\n",
            "[%] Downloading Image #20 from https://www.prodirectrugby.com/productimages/V3_1_Gallery_1/62289.jpg\n",
            "[!] Issue getting: https://www.prodirectrugby.com/productimages/V3_1_Gallery_1/62289.jpg\n",
            "[!] Error:: HTTP Error 403: Forbidden\n",
            "[%] Downloading Image #20 from https://cdn.vox-cdn.com/thumbor/Cmc69AQKqpZxQelaWYvIkdqAx7A=/0x0:3070x2047/1200x800/filters:focal(1347x661:1837x1151)/cdn.vox-cdn.com/uploads/chorus_image/image/57259811/865138828.0.jpg\n",
            "[%] File Downloaded !\n",
            "\n",
            "\n",
            "\n",
            "[!!]Indexing page: 3\n",
            "\n",
            "[%] Indexed 11 Images on Page 3.\n",
            "\n",
            "===============================================\n",
            "\n",
            "[%] Downloading Image #21 from https://cdn.notonthehighstreet.com/fs/6d/b6/5cda-1aa6-492c-b641-ff1185634649/original_leather-rugby-shaped-washbag.jpg\n",
            "[%] File Downloaded !\n",
            "\n",
            "[%] Downloading Image #22 from https://cdn.notonthehighstreet.com/fs/14/cb/45f8-4377-4358-9cc0-36c127d448d0/original_personalised-vintage-leather-rugby-ball.jpg\n",
            "[%] File Downloaded !\n",
            "\n",
            "[%] Downloading Image #23 from https://static.vecteezy.com/system/resources/previews/000/104/104/original/vector-football-texture-and-lace.jpg\n",
            "[%] File Downloaded !\n",
            "\n",
            "[%] Downloading Image #24 from https://d2gg9evh47fn9z.cloudfront.net/800px_COLOURBOX19173696.jpg\n",
            "[%] File Downloaded !\n",
            "\n",
            "[%] Downloading Image #25 from https://www.rasasports.com/antiquefootball/image017.jpg\n",
            "[Error]Invalid image, not saving https://www.rasasports.com/antiquefootball/image017.jpg\n",
            "\n",
            "[!] Issue getting: https://www.rasasports.com/antiquefootball/image017.jpg\n",
            "[!] Error:: No active exception to reraise\n",
            "[%] Downloading Image #25 from https://cdn.pixabay.com/photo/2014/04/03/11/08/american-football-311817_640.png\n",
            "[%] File Downloaded !\n",
            "\n",
            "[%] Downloading Image #26 from https://media.istockphoto.com/vectors/football-drawing-vector-id490813150\n",
            "[%] File Downloaded !\n",
            "\n",
            "[%] Downloading Image #27 from https://www.john-woodbridge.com/1062-tm_thickbox_default/balle-de-baseball.jpg\n",
            "[%] File Downloaded !\n",
            "\n",
            "[%] Downloading Image #28 from https://cdn.theschoollocker.com.au/media/catalog/product/cache/1/image/500x650/9df78eab33525d08d6e5fb8d27136e95/s/h/sherrin_afl_ball_synthetic_size_2_red_11077_1_1.jpg\n",
            "[%] File Downloaded !\n",
            "\n",
            "[%] Downloading Image #29 from https://www.prodirectrugby.com/productimages/V3_1_Gallery_1/62289.jpg\n",
            "[!] Issue getting: https://www.prodirectrugby.com/productimages/V3_1_Gallery_1/62289.jpg\n",
            "[!] Error:: HTTP Error 403: Forbidden\n",
            "[%] Downloading Image #29 from https://cdn.vox-cdn.com/thumbor/Cmc69AQKqpZxQelaWYvIkdqAx7A=/0x0:3070x2047/1200x800/filters:focal(1347x661:1837x1151)/cdn.vox-cdn.com/uploads/chorus_image/image/57259811/865138828.0.jpg\n",
            "[%] File Downloaded !\n",
            "\n",
            "\n",
            "\n",
            "[!!]Indexing page: 4\n",
            "\n",
            "[%] Indexed 10 Images on Page 4.\n",
            "\n",
            "===============================================\n",
            "\n",
            "[%] Downloading Image #30 from https://static.vecteezy.com/system/resources/previews/000/073/123/original/rugby-ball-vector.jpg\n",
            "[%] File Downloaded !\n",
            "\n",
            "\n",
            "\n",
            "[%] Done. Downloaded 30 images.\n",
            "\n",
            "===============================================\n",
            "\n"
          ],
          "name": "stdout"
        }
      ]
    },
    {
      "cell_type": "code",
      "metadata": {
        "colab": {
          "base_uri": "https://localhost:8080/"
        },
        "id": "Xou8Xn5dwmSp",
        "outputId": "50758255-a750-49db-d1f8-ba37536ccaef"
      },
      "source": [
        "from bing_image_downloader import downloader\n",
        "downloader.download(\"icecream cone\",limit=30,output_dir='images',\n",
        "                    adult_filter_off=True)"
      ],
      "execution_count": null,
      "outputs": [
        {
          "output_type": "stream",
          "text": [
            "\n",
            "\n",
            "[!!]Indexing page: 1\n",
            "\n",
            "[%] Indexed 23 Images on Page 1.\n",
            "\n",
            "===============================================\n",
            "\n",
            "[%] Downloading Image #1 from https://www.elanriverdistrict.com/app/uploads/2019/01/ian-dooley-281897-unsplash.jpg\n",
            "[%] File Downloaded !\n",
            "\n",
            "[%] Downloading Image #2 from https://c2.staticflickr.com/4/3357/4602700664_6d9473e26c_b.jpg\n",
            "[%] File Downloaded !\n",
            "\n",
            "[%] Downloading Image #3 from https://www.guinnessworldrecords.com/Images/Most-ice-cream-scoops-balanced-on-a-cone-header_tcm25-387618.jpg\n",
            "[%] File Downloaded !\n",
            "\n",
            "[%] Downloading Image #4 from https://64.media.tumblr.com/39c702e4cc530a5844c1ee25ca470ab4/c149e4939f250783-9c/s640x960/58a19e0b79126f5ee28cd700dfbee89eb3162727.jpg\n",
            "[%] File Downloaded !\n",
            "\n",
            "[%] Downloading Image #5 from https://www.packages.com.pk/wp-content/uploads/2017/10/cone-icecream-300x254.jpg\n",
            "[%] File Downloaded !\n",
            "\n",
            "[%] Downloading Image #6 from https://www.msjphotography.com/wp-content/uploads/2015/08/Ice-Cream-Cone-Skier-and-Snowboarder-Composite-GIF-Master.gif\n",
            "[%] File Downloaded !\n",
            "\n",
            "[%] Downloading Image #7 from https://www.bing.com/th/id/OGC.2e7e7615013e658214f1c5d0b9b9eede?pid=1.7&amp;rurl=https%3a%2f%2fwww.msjphotography.com%2fwp-content%2fuploads%2f2015%2f08%2fIce-Cream-Cone-Skier-and-Snowboarder-Composite-GIF-Master.gif&amp;ehk=r1Bt%2bSYTrrh9L55CCfNzb2PQfCYNKXc%2fhHAutTDHvdM%3d\n",
            "[!] Issue getting: https://www.bing.com/th/id/OGC.2e7e7615013e658214f1c5d0b9b9eede?pid=1.7&amp;rurl=https%3a%2f%2fwww.msjphotography.com%2fwp-content%2fuploads%2f2015%2f08%2fIce-Cream-Cone-Skier-and-Snowboarder-Composite-GIF-Master.gif&amp;ehk=r1Bt%2bSYTrrh9L55CCfNzb2PQfCYNKXc%2fhHAutTDHvdM%3d\n",
            "[!] Error:: HTTP Error 404: Not Found\n",
            "[%] Downloading Image #7 from https://cdn-grid.fotosearch.com/CSP/CSP006/icecream-scoops-on-a-cone-stock-photo__k48712399.jpg\n",
            "[%] File Downloaded !\n",
            "\n",
            "[%] Downloading Image #8 from https://www.finewebstores.com/thumbnail.asp?file=assets/images/metalsigns/foodbeverage/98016-classic-99.jpg&amp;maxx=300&amp;maxy=0\n",
            "[%] File Downloaded !\n",
            "\n",
            "[%] Downloading Image #9 from https://5.imimg.com/data5/UE/QS/GLADMIN-48432585/icecream-cone-250x250.png\n",
            "[%] File Downloaded !\n",
            "\n",
            "[%] Downloading Image #10 from http://farm1.staticflickr.com/3/4408579_d17669b69d.jpg\n",
            "[Error]Invalid image, not saving http://farm1.staticflickr.com/3/4408579_d17669b69d.jpg\n",
            "\n",
            "[!] Issue getting: http://farm1.staticflickr.com/3/4408579_d17669b69d.jpg\n",
            "[!] Error:: No active exception to reraise\n",
            "[%] Downloading Image #10 from https://www.thedollhouse.com.au/shop/wp-content/uploads/2020/04/Icecream-Cones.jpg\n",
            "[%] File Downloaded !\n",
            "\n",
            "[%] Downloading Image #11 from https://tattooblend.com/wp-content/uploads/2016/09/small-ice-cream-cone-tattoo.jpg\n",
            "[%] File Downloaded !\n",
            "\n",
            "[%] Downloading Image #12 from https://cdn-grid.fotosearch.com/CSP/CSP992/icecream-stock-image__k13601643.jpg\n",
            "[%] File Downloaded !\n",
            "\n",
            "[%] Downloading Image #13 from http://pixel.nymag.com/imgs/daily/grub/2014/07/16/16-ample-hills-gowanus-3.w245.h368.2x.jpg\n",
            "[Error]Invalid image, not saving http://pixel.nymag.com/imgs/daily/grub/2014/07/16/16-ample-hills-gowanus-3.w245.h368.2x.jpg\n",
            "\n",
            "[!] Issue getting: http://pixel.nymag.com/imgs/daily/grub/2014/07/16/16-ample-hills-gowanus-3.w245.h368.2x.jpg\n",
            "[!] Error:: No active exception to reraise\n",
            "[%] Downloading Image #13 from http://www.hersheysfarmmarket.com/department/ice-cream/gmccone.jpg\n",
            "[%] File Downloaded !\n",
            "\n",
            "[%] Downloading Image #14 from https://4.bp.blogspot.com/-p2Xoe7yvVOo/TVodezkmNCI/AAAAAAAAARQ/mhgfRTQuj2k/s1600/2010711152945104.jpg\n",
            "[%] File Downloaded !\n",
            "\n",
            "[%] Downloading Image #15 from https://thumbs.dreamstime.com/z/icecream-cones-2439997.jpg\n",
            "[%] File Downloaded !\n",
            "\n",
            "[%] Downloading Image #16 from https://i.ytimg.com/vi/2H8p2Dxpu_s/maxresdefault.jpg\n",
            "[%] File Downloaded !\n",
            "\n",
            "[%] Downloading Image #17 from https://i.pinimg.com/736x/bc/9f/95/bc9f9537ab77c67c16ec7ea54aaeae90.jpg\n",
            "[%] File Downloaded !\n",
            "\n",
            "[%] Downloading Image #18 from https://thumbs.dreamstime.com/b/fresh-natural-ingredients-pouring-out-icecream-cone-including-strawberries-mint-blueberries-flavors-concept-117151812.jpg\n",
            "[%] File Downloaded !\n",
            "\n",
            "[%] Downloading Image #19 from https://geekologie.com/2017/04/26/black-soft-serve-ice-cream-5.jpg\n",
            "[%] File Downloaded !\n",
            "\n",
            "[%] Downloading Image #20 from https://img1.etsystatic.com/072/0/6423019/il_570xN.819047879_hoel.jpg\n",
            "[Error]Invalid image, not saving https://img1.etsystatic.com/072/0/6423019/il_570xN.819047879_hoel.jpg\n",
            "\n",
            "[!] Issue getting: https://img1.etsystatic.com/072/0/6423019/il_570xN.819047879_hoel.jpg\n",
            "[!] Error:: No active exception to reraise\n",
            "\n",
            "\n",
            "[!!]Indexing page: 2\n",
            "\n",
            "[%] Indexed 23 Images on Page 2.\n",
            "\n",
            "===============================================\n",
            "\n",
            "[%] Downloading Image #20 from https://www.elanriverdistrict.com/app/uploads/2019/01/ian-dooley-281897-unsplash.jpg\n",
            "[%] File Downloaded !\n",
            "\n",
            "[%] Downloading Image #21 from https://www.thedollhouse.com.au/shop/wp-content/uploads/2020/04/Icecream-Cones.jpg\n",
            "[%] File Downloaded !\n",
            "\n",
            "[%] Downloading Image #22 from https://www.guinnessworldrecords.com/Images/Most-ice-cream-scoops-balanced-on-a-cone-header_tcm25-387618.jpg\n",
            "[%] File Downloaded !\n",
            "\n",
            "[%] Downloading Image #23 from https://64.media.tumblr.com/39c702e4cc530a5844c1ee25ca470ab4/c149e4939f250783-9c/s640x960/58a19e0b79126f5ee28cd700dfbee89eb3162727.jpg\n",
            "[%] File Downloaded !\n",
            "\n",
            "[%] Downloading Image #24 from https://www.packages.com.pk/wp-content/uploads/2017/10/cone-icecream-300x254.jpg\n",
            "[%] File Downloaded !\n",
            "\n",
            "[%] Downloading Image #25 from https://thumbs.dreamstime.com/z/icecream-cones-2439997.jpg\n",
            "[%] File Downloaded !\n",
            "\n",
            "[%] Downloading Image #26 from https://i.ytimg.com/vi/2H8p2Dxpu_s/maxresdefault.jpg\n",
            "[%] File Downloaded !\n",
            "\n",
            "[%] Downloading Image #27 from https://cdn-grid.fotosearch.com/CSP/CSP992/icecream-stock-image__k13601643.jpg\n",
            "[%] File Downloaded !\n",
            "\n",
            "[%] Downloading Image #28 from http://pixel.nymag.com/imgs/daily/grub/2014/07/16/16-ample-hills-gowanus-3.w245.h368.2x.jpg\n",
            "[Error]Invalid image, not saving http://pixel.nymag.com/imgs/daily/grub/2014/07/16/16-ample-hills-gowanus-3.w245.h368.2x.jpg\n",
            "\n",
            "[!] Issue getting: http://pixel.nymag.com/imgs/daily/grub/2014/07/16/16-ample-hills-gowanus-3.w245.h368.2x.jpg\n",
            "[!] Error:: No active exception to reraise\n",
            "[%] Downloading Image #28 from https://5.imimg.com/data5/UE/QS/GLADMIN-48432585/icecream-cone-250x250.png\n",
            "[%] File Downloaded !\n",
            "\n",
            "[%] Downloading Image #29 from http://farm1.staticflickr.com/3/4408579_d17669b69d.jpg\n",
            "[Error]Invalid image, not saving http://farm1.staticflickr.com/3/4408579_d17669b69d.jpg\n",
            "\n",
            "[!] Issue getting: http://farm1.staticflickr.com/3/4408579_d17669b69d.jpg\n",
            "[!] Error:: No active exception to reraise\n",
            "[%] Downloading Image #29 from https://www.msjphotography.com/wp-content/uploads/2015/08/Ice-Cream-Cone-Skier-and-Snowboarder-Composite-GIF-Master.gif\n",
            "[%] File Downloaded !\n",
            "\n",
            "[%] Downloading Image #30 from https://www.bing.com/th/id/OGC.2e7e7615013e658214f1c5d0b9b9eede?pid=1.7&amp;rurl=https%3a%2f%2fwww.msjphotography.com%2fwp-content%2fuploads%2f2015%2f08%2fIce-Cream-Cone-Skier-and-Snowboarder-Composite-GIF-Master.gif&amp;ehk=r1Bt%2bSYTrrh9L55CCfNzb2PQfCYNKXc%2fhHAutTDHvdM%3d\n",
            "[!] Issue getting: https://www.bing.com/th/id/OGC.2e7e7615013e658214f1c5d0b9b9eede?pid=1.7&amp;rurl=https%3a%2f%2fwww.msjphotography.com%2fwp-content%2fuploads%2f2015%2f08%2fIce-Cream-Cone-Skier-and-Snowboarder-Composite-GIF-Master.gif&amp;ehk=r1Bt%2bSYTrrh9L55CCfNzb2PQfCYNKXc%2fhHAutTDHvdM%3d\n",
            "[!] Error:: HTTP Error 404: Not Found\n",
            "[%] Downloading Image #30 from https://tattooblend.com/wp-content/uploads/2016/09/small-ice-cream-cone-tattoo.jpg\n",
            "[%] File Downloaded !\n",
            "\n",
            "\n",
            "\n",
            "[%] Done. Downloaded 30 images.\n",
            "\n",
            "===============================================\n",
            "\n"
          ],
          "name": "stdout"
        }
      ]
    },
    {
      "cell_type": "markdown",
      "metadata": {
        "id": "4keZxz1KW38d"
      },
      "source": [
        "# New section"
      ]
    },
    {
      "cell_type": "code",
      "metadata": {
        "colab": {
          "base_uri": "https://localhost:8080/"
        },
        "id": "FK1wChnAzV1Q",
        "outputId": "3323f956-45c8-4135-b57c-61b338dfceb6"
      },
      "source": [
        "import numpy as np\n",
        "\n",
        "a = np.array([1,2])\n",
        "a"
      ],
      "execution_count": null,
      "outputs": [
        {
          "output_type": "execute_result",
          "data": {
            "text/plain": [
              "array([1, 2])"
            ]
          },
          "metadata": {
            "tags": []
          },
          "execution_count": 13
        }
      ]
    },
    {
      "cell_type": "code",
      "metadata": {
        "colab": {
          "base_uri": "https://localhost:8080/"
        },
        "id": "7AfLMfST0JF5",
        "outputId": "7b425074-c2b8-45c0-c1d2-ba47ed3e3dfa"
      },
      "source": [
        "import numpy as np\n",
        "\n",
        "a=np.array([1,2,3,4,5])\n",
        "a"
      ],
      "execution_count": null,
      "outputs": [
        {
          "output_type": "execute_result",
          "data": {
            "text/plain": [
              "array([1, 2, 3, 4, 5])"
            ]
          },
          "metadata": {
            "tags": []
          },
          "execution_count": 14
        }
      ]
    },
    {
      "cell_type": "code",
      "metadata": {
        "colab": {
          "base_uri": "https://localhost:8080/"
        },
        "id": "XVDUrZvG0ptt",
        "outputId": "5bbfebc5-0470-46b4-ff5e-50f17d10711e"
      },
      "source": [
        "import numpy as np\n",
        "\n",
        "a = np.array([1,2,3,4,5])\n",
        "a.ndim\n"
      ],
      "execution_count": null,
      "outputs": [
        {
          "output_type": "execute_result",
          "data": {
            "text/plain": [
              "1"
            ]
          },
          "metadata": {
            "tags": []
          },
          "execution_count": 17
        }
      ]
    },
    {
      "cell_type": "code",
      "metadata": {
        "colab": {
          "base_uri": "https://localhost:8080/"
        },
        "id": "FDyM-ykV1TmH",
        "outputId": "756a2a5c-c5cd-45dd-aae4-9b36bae0c8c8"
      },
      "source": [
        "import numpy as np\n",
        "\n",
        "a = np.array([[1,2,3,4,5],[4,5,6,7,8]])\n",
        "a.ndim"
      ],
      "execution_count": null,
      "outputs": [
        {
          "output_type": "execute_result",
          "data": {
            "text/plain": [
              "2"
            ]
          },
          "metadata": {
            "tags": []
          },
          "execution_count": 18
        }
      ]
    },
    {
      "cell_type": "code",
      "metadata": {
        "colab": {
          "base_uri": "https://localhost:8080/"
        },
        "id": "MzhA66w02AuE",
        "outputId": "8e2d26e3-bd62-4c09-bd16-2c8d6578f8a3"
      },
      "source": [
        "# How do i convert Matrix to Vector? - flatten()\n",
        "a.flatten()\n"
      ],
      "execution_count": null,
      "outputs": [
        {
          "output_type": "execute_result",
          "data": {
            "text/plain": [
              "array([1, 2, 3, 4, 5, 4, 5, 6, 7, 8])"
            ]
          },
          "metadata": {
            "tags": []
          },
          "execution_count": 38
        }
      ]
    },
    {
      "cell_type": "code",
      "metadata": {
        "id": "O1p76w70AcLx",
        "colab": {
          "base_uri": "https://localhost:8080/",
          "height": 128
        },
        "outputId": "cd08496e-a705-410c-bde6-33ead08abd0d"
      },
      "source": [
        "#Preprocessing\n",
        "# 1.resize\n",
        "# 2.flatten\n",
        "\n",
        "\n",
        "import os\n",
        "import matplotlib.pyplot as plt\n",
        "import numpy as np\n",
        "from skimage.os import imread \n",
        "from skimage.transform import resize\n",
        "\n",
        "target = []\n",
        "images = []\n",
        "flat_data = []\n",
        "\n",
        "DATADIR = '/content/images'\n",
        "CATEGORIES = ['pretty sunflower','rugby ball leather','ice cream cone']\n",
        "\n",
        "for category in CATEGORIES:\n",
        "  class_num = CATEGORIES.index(category) # Label encoding  the values\n",
        "  path = os.path.join(DATADIR,category) # Create path to use all the images\n",
        "  #/content/images/pretty sunflower\n",
        "  for img in os.listdir(path):\n",
        "   img_array = imread(os.path.join(path,img))\n",
        "   #print(img_array.shape)\n",
        "   #plt.imshow(img_array)\n",
        "      img_resized = resize(img_array,(150,150,3)) # Normalizes the value from 0 to 1\n",
        "      flat_data.append(img_resized.flatten())\n",
        "      images.append(img_resized)\n",
        "      target.append(class_num)\n",
        "\n",
        " flat_data = np.array(flat_data)     \n",
        "target = np.array(target)\n",
        "images = np.array(images)"
      ],
      "execution_count": null,
      "outputs": [
        {
          "output_type": "error",
          "ename": "IndentationError",
          "evalue": "ignored",
          "traceback": [
            "\u001b[0;36m  File \u001b[0;32m\"<ipython-input-70-493a13bc6cbb>\"\u001b[0;36m, line \u001b[0;32m27\u001b[0m\n\u001b[0;31m    img_resized = resize(img_array,(150,150,3)) # Normalizes the value from 0 to 1\u001b[0m\n\u001b[0m    ^\u001b[0m\n\u001b[0;31mIndentationError\u001b[0m\u001b[0;31m:\u001b[0m unexpected indent\n"
          ]
        }
      ]
    },
    {
      "cell_type": "code",
      "metadata": {
        "id": "LMMq72FoxVhg",
        "colab": {
          "base_uri": "https://localhost:8080/"
        },
        "outputId": "90749abe-e3a1-410a-daeb-a129e3210c0a"
      },
      "source": [
        "flat_data[0]"
      ],
      "execution_count": null,
      "outputs": [
        {
          "output_type": "execute_result",
          "data": {
            "text/plain": [
              "array([0.09607843, 0.09607843, 0.04901961, ..., 0.8627451 , 0.83137255,\n",
              "       0.79803922])"
            ]
          },
          "metadata": {
            "tags": []
          },
          "execution_count": 72
        }
      ]
    },
    {
      "cell_type": "code",
      "metadata": {
        "id": "x2ftLmmzAcIt",
        "colab": {
          "base_uri": "https://localhost:8080/"
        },
        "outputId": "c90436bd-d9f4-465a-dc49-f7317c8e4514"
      },
      "source": [
        "flat_data"
      ],
      "execution_count": null,
      "outputs": [
        {
          "output_type": "execute_result",
          "data": {
            "text/plain": [
              "[array([0.09607843, 0.09607843, 0.04901961, ..., 0.8627451 , 0.83137255,\n",
              "        0.79803922]),\n",
              " array([0.09607843, 0.09607843, 0.04901961, ..., 0.8627451 , 0.83137255,\n",
              "        0.79803922]),\n",
              " array([0.09607843, 0.09607843, 0.04901961, ..., 0.8627451 , 0.83137255,\n",
              "        0.79803922]),\n",
              " array([0.09607843, 0.09607843, 0.04901961, ..., 0.8627451 , 0.83137255,\n",
              "        0.79803922]),\n",
              " array([0.09607843, 0.09607843, 0.04901961, ..., 0.8627451 , 0.83137255,\n",
              "        0.79803922]),\n",
              " array([0.09607843, 0.09607843, 0.04901961, ..., 0.8627451 , 0.83137255,\n",
              "        0.79803922]),\n",
              " array([0.09607843, 0.09607843, 0.04901961, ..., 0.8627451 , 0.83137255,\n",
              "        0.79803922]),\n",
              " array([0.09607843, 0.09607843, 0.04901961, ..., 0.8627451 , 0.83137255,\n",
              "        0.79803922]),\n",
              " array([0.09607843, 0.09607843, 0.04901961, ..., 0.8627451 , 0.83137255,\n",
              "        0.79803922]),\n",
              " array([0.09607843, 0.09607843, 0.04901961, ..., 0.8627451 , 0.83137255,\n",
              "        0.79803922]),\n",
              " array([0.09607843, 0.09607843, 0.04901961, ..., 0.8627451 , 0.83137255,\n",
              "        0.79803922]),\n",
              " array([0.09607843, 0.09607843, 0.04901961, ..., 0.8627451 , 0.83137255,\n",
              "        0.79803922]),\n",
              " array([0.09607843, 0.09607843, 0.04901961, ..., 0.8627451 , 0.83137255,\n",
              "        0.79803922]),\n",
              " array([0.09607843, 0.09607843, 0.04901961, ..., 0.8627451 , 0.83137255,\n",
              "        0.79803922]),\n",
              " array([0.09607843, 0.09607843, 0.04901961, ..., 0.8627451 , 0.83137255,\n",
              "        0.79803922]),\n",
              " array([0.09607843, 0.09607843, 0.04901961, ..., 0.8627451 , 0.83137255,\n",
              "        0.79803922]),\n",
              " array([0.09607843, 0.09607843, 0.04901961, ..., 0.8627451 , 0.83137255,\n",
              "        0.79803922]),\n",
              " array([0.09607843, 0.09607843, 0.04901961, ..., 0.8627451 , 0.83137255,\n",
              "        0.79803922]),\n",
              " array([0.09607843, 0.09607843, 0.04901961, ..., 0.8627451 , 0.83137255,\n",
              "        0.79803922]),\n",
              " array([0.09607843, 0.09607843, 0.04901961, ..., 0.8627451 , 0.83137255,\n",
              "        0.79803922]),\n",
              " array([0.09607843, 0.09607843, 0.04901961, ..., 0.8627451 , 0.83137255,\n",
              "        0.79803922]),\n",
              " array([0.09607843, 0.09607843, 0.04901961, ..., 0.8627451 , 0.83137255,\n",
              "        0.79803922]),\n",
              " array([0.09607843, 0.09607843, 0.04901961, ..., 0.8627451 , 0.83137255,\n",
              "        0.79803922]),\n",
              " array([0.09607843, 0.09607843, 0.04901961, ..., 0.8627451 , 0.83137255,\n",
              "        0.79803922]),\n",
              " array([0.09607843, 0.09607843, 0.04901961, ..., 0.8627451 , 0.83137255,\n",
              "        0.79803922]),\n",
              " array([0.09607843, 0.09607843, 0.04901961, ..., 0.8627451 , 0.83137255,\n",
              "        0.79803922]),\n",
              " array([0.09607843, 0.09607843, 0.04901961, ..., 0.8627451 , 0.83137255,\n",
              "        0.79803922]),\n",
              " array([0.09607843, 0.09607843, 0.04901961, ..., 0.8627451 , 0.83137255,\n",
              "        0.79803922]),\n",
              " array([0.09607843, 0.09607843, 0.04901961, ..., 0.8627451 , 0.83137255,\n",
              "        0.79803922]),\n",
              " array([0.09607843, 0.09607843, 0.04901961, ..., 0.8627451 , 0.83137255,\n",
              "        0.79803922]),\n",
              " array([0.09607843, 0.09607843, 0.04901961, ..., 0.8627451 , 0.83137255,\n",
              "        0.79803922])]"
            ]
          },
          "metadata": {
            "tags": []
          },
          "execution_count": 73
        }
      ]
    },
    {
      "cell_type": "code",
      "metadata": {
        "id": "480wy9vbAb_D",
        "colab": {
          "base_uri": "https://localhost:8080/"
        },
        "outputId": "2152aa19-fad8-4173-eca3-e1be3b5ddc2d"
      },
      "source": [
        "len(flat_data[0])"
      ],
      "execution_count": null,
      "outputs": [
        {
          "output_type": "execute_result",
          "data": {
            "text/plain": [
              "67500"
            ]
          },
          "metadata": {
            "tags": []
          },
          "execution_count": 74
        }
      ]
    },
    {
      "cell_type": "code",
      "metadata": {
        "id": "8F85Es7PAbdd",
        "colab": {
          "base_uri": "https://localhost:8080/"
        },
        "outputId": "25aaaec6-5696-4faa-a48e-d34d612737d6"
      },
      "source": [
        "150*150"
      ],
      "execution_count": null,
      "outputs": [
        {
          "output_type": "execute_result",
          "data": {
            "text/plain": [
              "22500"
            ]
          },
          "metadata": {
            "tags": []
          },
          "execution_count": 76
        }
      ]
    },
    {
      "cell_type": "code",
      "metadata": {
        "id": "zKgoaOk0AVaN",
        "colab": {
          "base_uri": "https://localhost:8080/"
        },
        "outputId": "5cba95be-a981-4946-e087-55e5dc44b4ed"
      },
      "source": [
        "150*150*3"
      ],
      "execution_count": null,
      "outputs": [
        {
          "output_type": "execute_result",
          "data": {
            "text/plain": [
              "67500"
            ]
          },
          "metadata": {
            "tags": []
          },
          "execution_count": 77
        }
      ]
    },
    {
      "cell_type": "code",
      "metadata": {
        "id": "2HabB69o_aQy",
        "colab": {
          "base_uri": "https://localhost:8080/"
        },
        "outputId": "1e4295dc-d67e-4931-df2c-fc9cada4f115"
      },
      "source": [
        "target"
      ],
      "execution_count": null,
      "outputs": [
        {
          "output_type": "execute_result",
          "data": {
            "text/plain": [
              "[0,\n",
              " 0,\n",
              " 0,\n",
              " 0,\n",
              " 0,\n",
              " 0,\n",
              " 0,\n",
              " 0,\n",
              " 0,\n",
              " 0,\n",
              " 0,\n",
              " 0,\n",
              " 0,\n",
              " 0,\n",
              " 0,\n",
              " 0,\n",
              " 0,\n",
              " 0,\n",
              " 0,\n",
              " 0,\n",
              " 0,\n",
              " 0,\n",
              " 0,\n",
              " 0,\n",
              " 0,\n",
              " 0,\n",
              " 0,\n",
              " 0,\n",
              " 0,\n",
              " 0,\n",
              " 0]"
            ]
          },
          "metadata": {
            "tags": []
          },
          "execution_count": 78
        }
      ]
    },
    {
      "cell_type": "code",
      "metadata": {
        "id": "dsG256tI_coq",
        "colab": {
          "base_uri": "https://localhost:8080/"
        },
        "outputId": "50e32f97-e7a7-424c-a000-a7111ce86067"
      },
      "source": [
        "np.unique(target,return_counts=True)"
      ],
      "execution_count": null,
      "outputs": [
        {
          "output_type": "execute_result",
          "data": {
            "text/plain": [
              "(array([0]), array([31]))"
            ]
          },
          "metadata": {
            "tags": []
          },
          "execution_count": 79
        }
      ]
    },
    {
      "cell_type": "code",
      "metadata": {
        "id": "owKC4e20_XS7",
        "colab": {
          "base_uri": "https://localhost:8080/",
          "height": 282
        },
        "outputId": "1e0a5c48-9fe9-4d2d-e8b9-0e14f0fe0672"
      },
      "source": [
        "unique,count = np.unique(target,return_counts=True)\n",
        "plt.bar(CATEGORIES,count)"
      ],
      "execution_count": null,
      "outputs": [
        {
          "output_type": "execute_result",
          "data": {
            "text/plain": [
              "<BarContainer object of 3 artists>"
            ]
          },
          "metadata": {
            "tags": []
          },
          "execution_count": 80
        },
        {
          "output_type": "display_data",
          "data": {
            "image/png": "[encoded data removed]",
            "text/plain": [
              "<Figure size 432x288 with 1 Axes>"
            ]
          },
          "metadata": {
            "tags": [],
            "needs_background": "light"
          }
        }
      ]
    },
    {
      "cell_type": "code",
      "metadata": {
        "id": "0yIZnZA1_Tqz",
        "colab": {
          "base_uri": "https://localhost:8080/",
          "height": 212
        },
        "outputId": "ded8caca-1bfb-4bd2-8e56-737ac72ce68f"
      },
      "source": [
        "#Split data into Training and testing\n",
        "from sklearn.model_selection import train_test_split\n",
        "x_train,x_test,y_train,y_test = train_test_split(flat_data,target,\n",
        "                                                 test_size=0.3,random_state=109)"
      ],
      "execution_count": null,
      "outputs": [
        {
          "output_type": "error",
          "ename": "NameError",
          "evalue": "ignored",
          "traceback": [
            "\u001b[0;31m---------------------------------------------------------------------------\u001b[0m",
            "\u001b[0;31mNameError\u001b[0m                                 Traceback (most recent call last)",
            "\u001b[0;32m<ipython-input-37-05d16fe436c9>\u001b[0m in \u001b[0;36m<module>\u001b[0;34m()\u001b[0m\n\u001b[1;32m      1\u001b[0m \u001b[0;31m#Split data into Training and testing\u001b[0m\u001b[0;34m\u001b[0m\u001b[0;34m\u001b[0m\u001b[0;34m\u001b[0m\u001b[0m\n\u001b[1;32m      2\u001b[0m \u001b[0;32mfrom\u001b[0m \u001b[0msklearn\u001b[0m\u001b[0;34m.\u001b[0m\u001b[0mmodel_selection\u001b[0m \u001b[0;32mimport\u001b[0m \u001b[0mtrain_test_split\u001b[0m\u001b[0;34m\u001b[0m\u001b[0;34m\u001b[0m\u001b[0m\n\u001b[0;32m----> 3\u001b[0;31m x_train,x_test,y_train,y_test = train_test_split(flat_data,target,\n\u001b[0m\u001b[1;32m      4\u001b[0m                                                  test_size=0.3,random_state=109)\n",
            "\u001b[0;31mNameError\u001b[0m: name 'flat_data' is not defined"
          ]
        }
      ]
    },
    {
      "cell_type": "code",
      "metadata": {
        "id": "WkjDDZBaZj66",
        "colab": {
          "base_uri": "https://localhost:8080/",
          "height": 195
        },
        "outputId": "608caf15-2644-4de9-d177-5cd1349928c5"
      },
      "source": [
        "from sklearn.model_selection import GridSearchCV\n",
        "from sklearn import svm\n",
        "param_grid = [\n",
        "              {'C':[1,10,100,1000],'kernal':['linear']},\n",
        "              {'C':[1,10,100,1000],'gamma':[0.001,0.0001],'kernal':['rbf']}\n",
        "]\n",
        "\n",
        "svc = svm.SVC(probability=True)\n",
        "clf = GridSearchCV(svc,param_grid)\n",
        "clf.fit(x_train,y_train)"
      ],
      "execution_count": null,
      "outputs": [
        {
          "output_type": "error",
          "ename": "NameError",
          "evalue": "ignored",
          "traceback": [
            "\u001b[0;31m---------------------------------------------------------------------------\u001b[0m",
            "\u001b[0;31mNameError\u001b[0m                                 Traceback (most recent call last)",
            "\u001b[0;32m<ipython-input-19-36a91bdeefcf>\u001b[0m in \u001b[0;36m<module>\u001b[0;34m()\u001b[0m\n\u001b[1;32m      8\u001b[0m \u001b[0msvc\u001b[0m \u001b[0;34m=\u001b[0m \u001b[0msvm\u001b[0m\u001b[0;34m.\u001b[0m\u001b[0mSVC\u001b[0m\u001b[0;34m(\u001b[0m\u001b[0mprobability\u001b[0m\u001b[0;34m=\u001b[0m\u001b[0;32mTrue\u001b[0m\u001b[0;34m)\u001b[0m\u001b[0;34m\u001b[0m\u001b[0;34m\u001b[0m\u001b[0m\n\u001b[1;32m      9\u001b[0m \u001b[0mclf\u001b[0m \u001b[0;34m=\u001b[0m \u001b[0mGridSearchCV\u001b[0m\u001b[0;34m(\u001b[0m\u001b[0msvc\u001b[0m\u001b[0;34m,\u001b[0m\u001b[0mparam_grid\u001b[0m\u001b[0;34m)\u001b[0m\u001b[0;34m\u001b[0m\u001b[0;34m\u001b[0m\u001b[0m\n\u001b[0;32m---> 10\u001b[0;31m \u001b[0mclf\u001b[0m\u001b[0;34m.\u001b[0m\u001b[0mfit\u001b[0m\u001b[0;34m(\u001b[0m\u001b[0mx_train\u001b[0m\u001b[0;34m,\u001b[0m\u001b[0my_train\u001b[0m\u001b[0;34m)\u001b[0m\u001b[0;34m\u001b[0m\u001b[0;34m\u001b[0m\u001b[0m\n\u001b[0m",
            "\u001b[0;31mNameError\u001b[0m: name 'x_train' is not defined"
          ]
        }
      ]
    },
    {
      "cell_type": "code",
      "metadata": {
        "id": "Ml5whBcb42_b",
        "colab": {
          "base_uri": "https://localhost:8080/",
          "height": 178
        },
        "outputId": "9e6423c7-cd6b-4e12-8518-f58d465ca9ea"
      },
      "source": [
        "y_pred = clf.predict(x_test)\n",
        "y_pred"
      ],
      "execution_count": null,
      "outputs": [
        {
          "output_type": "error",
          "ename": "NameError",
          "evalue": "ignored",
          "traceback": [
            "\u001b[0;31m---------------------------------------------------------------------------\u001b[0m",
            "\u001b[0;31mNameError\u001b[0m                                 Traceback (most recent call last)",
            "\u001b[0;32m<ipython-input-23-7a9340d2cde6>\u001b[0m in \u001b[0;36m<module>\u001b[0;34m()\u001b[0m\n\u001b[0;32m----> 1\u001b[0;31m \u001b[0my_pred\u001b[0m \u001b[0;34m=\u001b[0m \u001b[0mclf\u001b[0m\u001b[0;34m.\u001b[0m\u001b[0mpredict\u001b[0m\u001b[0;34m(\u001b[0m\u001b[0mx_test\u001b[0m\u001b[0;34m)\u001b[0m\u001b[0;34m\u001b[0m\u001b[0;34m\u001b[0m\u001b[0m\n\u001b[0m\u001b[1;32m      2\u001b[0m \u001b[0my_pred\u001b[0m\u001b[0;34m\u001b[0m\u001b[0;34m\u001b[0m\u001b[0m\n",
            "\u001b[0;31mNameError\u001b[0m: name 'x_test' is not defined"
          ]
        }
      ]
    },
    {
      "cell_type": "code",
      "metadata": {
        "id": "2LzIASKM43An",
        "colab": {
          "base_uri": "https://localhost:8080/",
          "height": 162
        },
        "outputId": "7d13647e-ed0b-47e4-b6a5-d346650f2816"
      },
      "source": [
        "y_test"
      ],
      "execution_count": null,
      "outputs": [
        {
          "output_type": "error",
          "ename": "NameError",
          "evalue": "ignored",
          "traceback": [
            "\u001b[0;31m---------------------------------------------------------------------------\u001b[0m",
            "\u001b[0;31mNameError\u001b[0m                                 Traceback (most recent call last)",
            "\u001b[0;32m<ipython-input-28-27d3425f7a85>\u001b[0m in \u001b[0;36m<module>\u001b[0;34m()\u001b[0m\n\u001b[0;32m----> 1\u001b[0;31m \u001b[0my_test\u001b[0m\u001b[0;34m\u001b[0m\u001b[0;34m\u001b[0m\u001b[0m\n\u001b[0m",
            "\u001b[0;31mNameError\u001b[0m: name 'y_test' is not defined"
          ]
        }
      ]
    },
    {
      "cell_type": "code",
      "metadata": {
        "id": "jGfBU1DL43B3"
      },
      "source": [
        "from sklearn.metrics import accuracy_score,confusion_matrix"
      ],
      "execution_count": null,
      "outputs": []
    },
    {
      "cell_type": "code",
      "metadata": {
        "id": "g5XLq8aF43Cc",
        "colab": {
          "base_uri": "https://localhost:8080/",
          "height": 162
        },
        "outputId": "404d99dc-5ac0-4af9-bdec-bd669e25ae9c"
      },
      "source": [
        "accuracy_score(y_pred,y_test)"
      ],
      "execution_count": null,
      "outputs": [
        {
          "output_type": "error",
          "ename": "NameError",
          "evalue": "ignored",
          "traceback": [
            "\u001b[0;31m---------------------------------------------------------------------------\u001b[0m",
            "\u001b[0;31mNameError\u001b[0m                                 Traceback (most recent call last)",
            "\u001b[0;32m<ipython-input-29-ef5037e113b2>\u001b[0m in \u001b[0;36m<module>\u001b[0;34m()\u001b[0m\n\u001b[0;32m----> 1\u001b[0;31m \u001b[0maccuracy_score\u001b[0m\u001b[0;34m(\u001b[0m\u001b[0my_pred\u001b[0m\u001b[0;34m,\u001b[0m\u001b[0my_test\u001b[0m\u001b[0;34m)\u001b[0m\u001b[0;34m\u001b[0m\u001b[0;34m\u001b[0m\u001b[0m\n\u001b[0m",
            "\u001b[0;31mNameError\u001b[0m: name 'y_pred' is not defined"
          ]
        }
      ]
    },
    {
      "cell_type": "code",
      "metadata": {
        "id": "GCN12nxm43DB",
        "colab": {
          "base_uri": "https://localhost:8080/",
          "height": 162
        },
        "outputId": "5c228028-2dac-4254-976e-1bc9017e9fac"
      },
      "source": [
        "confusion_matrix(y_pred,y_test)"
      ],
      "execution_count": null,
      "outputs": [
        {
          "output_type": "error",
          "ename": "NameError",
          "evalue": "ignored",
          "traceback": [
            "\u001b[0;31m---------------------------------------------------------------------------\u001b[0m",
            "\u001b[0;31mNameError\u001b[0m                                 Traceback (most recent call last)",
            "\u001b[0;32m<ipython-input-34-2f1257c22532>\u001b[0m in \u001b[0;36m<module>\u001b[0;34m()\u001b[0m\n\u001b[0;32m----> 1\u001b[0;31m \u001b[0mconfusion_matrix\u001b[0m\u001b[0;34m(\u001b[0m\u001b[0my_pred\u001b[0m\u001b[0;34m,\u001b[0m\u001b[0my_test\u001b[0m\u001b[0;34m)\u001b[0m\u001b[0;34m\u001b[0m\u001b[0;34m\u001b[0m\u001b[0m\n\u001b[0m",
            "\u001b[0;31mNameError\u001b[0m: name 'y_pred' is not defined"
          ]
        }
      ]
    },
    {
      "cell_type": "code",
      "metadata": {
        "id": "m2mpEZgK43Dj",
        "colab": {
          "base_uri": "https://localhost:8080/",
          "height": 195
        },
        "outputId": "ff5a9681-1d75-4fc9-900e-8d44e0747710"
      },
      "source": [
        "# Save the model using pickle library\n",
        "import pickle\n",
        "pickle.dumple(clf,open('img_model.p','wb'))"
      ],
      "execution_count": null,
      "outputs": [
        {
          "output_type": "error",
          "ename": "AttributeError",
          "evalue": "ignored",
          "traceback": [
            "\u001b[0;31m---------------------------------------------------------------------------\u001b[0m",
            "\u001b[0;31mAttributeError\u001b[0m                            Traceback (most recent call last)",
            "\u001b[0;32m<ipython-input-35-50f6a62acaeb>\u001b[0m in \u001b[0;36m<module>\u001b[0;34m()\u001b[0m\n\u001b[1;32m      1\u001b[0m \u001b[0;31m# Save the model using pickle library\u001b[0m\u001b[0;34m\u001b[0m\u001b[0;34m\u001b[0m\u001b[0;34m\u001b[0m\u001b[0m\n\u001b[1;32m      2\u001b[0m \u001b[0;32mimport\u001b[0m \u001b[0mpickle\u001b[0m\u001b[0;34m\u001b[0m\u001b[0;34m\u001b[0m\u001b[0m\n\u001b[0;32m----> 3\u001b[0;31m \u001b[0mpickle\u001b[0m\u001b[0;34m.\u001b[0m\u001b[0mdumple\u001b[0m\u001b[0;34m(\u001b[0m\u001b[0mclf\u001b[0m\u001b[0;34m,\u001b[0m\u001b[0mopen\u001b[0m\u001b[0;34m(\u001b[0m\u001b[0;34m'img_model.p'\u001b[0m\u001b[0;34m,\u001b[0m\u001b[0;34m'wb'\u001b[0m\u001b[0;34m)\u001b[0m\u001b[0;34m)\u001b[0m\u001b[0;34m\u001b[0m\u001b[0;34m\u001b[0m\u001b[0m\n\u001b[0m",
            "\u001b[0;31mAttributeError\u001b[0m: module 'pickle' has no attribute 'dumple'"
          ]
        }
      ]
    },
    {
      "cell_type": "code",
      "metadata": {
        "id": "P6DckhBN43EK",
        "colab": {
          "base_uri": "https://localhost:8080/",
          "height": 162
        },
        "outputId": "8bdabab9-45f4-461c-9968-1eb168f7df92"
      },
      "source": [
        "model = pickle.load(open('img_model.p','rb'))"
      ],
      "execution_count": null,
      "outputs": [
        {
          "output_type": "error",
          "ename": "FileNotFoundError",
          "evalue": "ignored",
          "traceback": [
            "\u001b[0;31m---------------------------------------------------------------------------\u001b[0m",
            "\u001b[0;31mFileNotFoundError\u001b[0m                         Traceback (most recent call last)",
            "\u001b[0;32m<ipython-input-36-d25ed5603acc>\u001b[0m in \u001b[0;36m<module>\u001b[0;34m()\u001b[0m\n\u001b[0;32m----> 1\u001b[0;31m \u001b[0mmodel\u001b[0m \u001b[0;34m=\u001b[0m \u001b[0mpickle\u001b[0m\u001b[0;34m.\u001b[0m\u001b[0mload\u001b[0m\u001b[0;34m(\u001b[0m\u001b[0mopen\u001b[0m\u001b[0;34m(\u001b[0m\u001b[0;34m'img_model.p'\u001b[0m\u001b[0;34m,\u001b[0m\u001b[0;34m'rb'\u001b[0m\u001b[0;34m)\u001b[0m\u001b[0;34m)\u001b[0m\u001b[0;34m\u001b[0m\u001b[0;34m\u001b[0m\u001b[0m\n\u001b[0m",
            "\u001b[0;31mFileNotFoundError\u001b[0m: [Errno 2] No such file or directory: 'img_model.p'"
          ]
        }
      ]
    },
    {
      "cell_type": "code",
      "metadata": {
        "id": "FtErywyg43Ey",
        "colab": {
          "base_uri": "https://localhost:8080/",
          "height": 522
        },
        "outputId": "ce2a021b-26c1-4ea0-9fb6-2a8e16bf6a32"
      },
      "source": [
        "\n",
        "\n",
        "# Testing a brand new Image\n",
        "flat_data = []\n",
        "url = input('Enter your URL')\n",
        "img = imread(url)\n",
        "img_resized = resize(img,(150,150,3))\n",
        "flat_data.append(img_resized.flatten())\n",
        "flat_data = np.array(flat_data)\n",
        "print(img.shape)\n",
        "plt.imshow(img_resized)\n",
        "y_out = modeel.predict(flat_data)\n",
        "y_out = CATEGORIES[y_out[0]]\n",
        "print(f'PREDICTED OUTPUT: {y_out}')"
      ],
      "execution_count": null,
      "outputs": [
        {
          "output_type": "error",
          "ename": "KeyboardInterrupt",
          "evalue": "ignored",
          "traceback": [
            "\u001b[0;31m---------------------------------------------------------------------------\u001b[0m",
            "\u001b[0;31mKeyboardInterrupt\u001b[0m                         Traceback (most recent call last)",
            "\u001b[0;32m/usr/local/lib/python3.7/dist-packages/ipykernel/kernelbase.py\u001b[0m in \u001b[0;36m_input_request\u001b[0;34m(self, prompt, ident, parent, password)\u001b[0m\n\u001b[1;32m    728\u001b[0m             \u001b[0;32mtry\u001b[0m\u001b[0;34m:\u001b[0m\u001b[0;34m\u001b[0m\u001b[0;34m\u001b[0m\u001b[0m\n\u001b[0;32m--> 729\u001b[0;31m                 \u001b[0mident\u001b[0m\u001b[0;34m,\u001b[0m \u001b[0mreply\u001b[0m \u001b[0;34m=\u001b[0m \u001b[0mself\u001b[0m\u001b[0;34m.\u001b[0m\u001b[0msession\u001b[0m\u001b[0;34m.\u001b[0m\u001b[0mrecv\u001b[0m\u001b[0;34m(\u001b[0m\u001b[0mself\u001b[0m\u001b[0;34m.\u001b[0m\u001b[0mstdin_socket\u001b[0m\u001b[0;34m,\u001b[0m \u001b[0;36m0\u001b[0m\u001b[0;34m)\u001b[0m\u001b[0;34m\u001b[0m\u001b[0;34m\u001b[0m\u001b[0m\n\u001b[0m\u001b[1;32m    730\u001b[0m             \u001b[0;32mexcept\u001b[0m \u001b[0mException\u001b[0m\u001b[0;34m:\u001b[0m\u001b[0;34m\u001b[0m\u001b[0;34m\u001b[0m\u001b[0m\n",
            "\u001b[0;32m/usr/local/lib/python3.7/dist-packages/jupyter_client/session.py\u001b[0m in \u001b[0;36mrecv\u001b[0;34m(self, socket, mode, content, copy)\u001b[0m\n\u001b[1;32m    802\u001b[0m         \u001b[0;32mtry\u001b[0m\u001b[0;34m:\u001b[0m\u001b[0;34m\u001b[0m\u001b[0;34m\u001b[0m\u001b[0m\n\u001b[0;32m--> 803\u001b[0;31m             \u001b[0mmsg_list\u001b[0m \u001b[0;34m=\u001b[0m \u001b[0msocket\u001b[0m\u001b[0;34m.\u001b[0m\u001b[0mrecv_multipart\u001b[0m\u001b[0;34m(\u001b[0m\u001b[0mmode\u001b[0m\u001b[0;34m,\u001b[0m \u001b[0mcopy\u001b[0m\u001b[0;34m=\u001b[0m\u001b[0mcopy\u001b[0m\u001b[0;34m)\u001b[0m\u001b[0;34m\u001b[0m\u001b[0;34m\u001b[0m\u001b[0m\n\u001b[0m\u001b[1;32m    804\u001b[0m         \u001b[0;32mexcept\u001b[0m \u001b[0mzmq\u001b[0m\u001b[0;34m.\u001b[0m\u001b[0mZMQError\u001b[0m \u001b[0;32mas\u001b[0m \u001b[0me\u001b[0m\u001b[0;34m:\u001b[0m\u001b[0;34m\u001b[0m\u001b[0;34m\u001b[0m\u001b[0m\n",
            "\u001b[0;32m/usr/local/lib/python3.7/dist-packages/zmq/sugar/socket.py\u001b[0m in \u001b[0;36mrecv_multipart\u001b[0;34m(self, flags, copy, track)\u001b[0m\n\u001b[1;32m    582\u001b[0m         \"\"\"\n\u001b[0;32m--> 583\u001b[0;31m         \u001b[0mparts\u001b[0m \u001b[0;34m=\u001b[0m \u001b[0;34m[\u001b[0m\u001b[0mself\u001b[0m\u001b[0;34m.\u001b[0m\u001b[0mrecv\u001b[0m\u001b[0;34m(\u001b[0m\u001b[0mflags\u001b[0m\u001b[0;34m,\u001b[0m \u001b[0mcopy\u001b[0m\u001b[0;34m=\u001b[0m\u001b[0mcopy\u001b[0m\u001b[0;34m,\u001b[0m \u001b[0mtrack\u001b[0m\u001b[0;34m=\u001b[0m\u001b[0mtrack\u001b[0m\u001b[0;34m)\u001b[0m\u001b[0;34m]\u001b[0m\u001b[0;34m\u001b[0m\u001b[0;34m\u001b[0m\u001b[0m\n\u001b[0m\u001b[1;32m    584\u001b[0m         \u001b[0;31m# have first part already, only loop while more to receive\u001b[0m\u001b[0;34m\u001b[0m\u001b[0;34m\u001b[0m\u001b[0;34m\u001b[0m\u001b[0m\n",
            "\u001b[0;32mzmq/backend/cython/socket.pyx\u001b[0m in \u001b[0;36mzmq.backend.cython.socket.Socket.recv\u001b[0;34m()\u001b[0m\n",
            "\u001b[0;32mzmq/backend/cython/socket.pyx\u001b[0m in \u001b[0;36mzmq.backend.cython.socket.Socket.recv\u001b[0;34m()\u001b[0m\n",
            "\u001b[0;32mzmq/backend/cython/socket.pyx\u001b[0m in \u001b[0;36mzmq.backend.cython.socket._recv_copy\u001b[0;34m()\u001b[0m\n",
            "\u001b[0;32m/usr/local/lib/python3.7/dist-packages/zmq/backend/cython/checkrc.pxd\u001b[0m in \u001b[0;36mzmq.backend.cython.checkrc._check_rc\u001b[0;34m()\u001b[0m\n",
            "\u001b[0;31mKeyboardInterrupt\u001b[0m: ",
            "\nDuring handling of the above exception, another exception occurred:\n",
            "\u001b[0;31mKeyboardInterrupt\u001b[0m                         Traceback (most recent call last)",
            "\u001b[0;32m<ipython-input-43-e088c06acbcb>\u001b[0m in \u001b[0;36m<module>\u001b[0;34m()\u001b[0m\n\u001b[1;32m      3\u001b[0m \u001b[0;31m# Testing a brand new Image\u001b[0m\u001b[0;34m\u001b[0m\u001b[0;34m\u001b[0m\u001b[0;34m\u001b[0m\u001b[0m\n\u001b[1;32m      4\u001b[0m \u001b[0mflat_data\u001b[0m \u001b[0;34m=\u001b[0m \u001b[0;34m[\u001b[0m\u001b[0;34m]\u001b[0m\u001b[0;34m\u001b[0m\u001b[0;34m\u001b[0m\u001b[0m\n\u001b[0;32m----> 5\u001b[0;31m \u001b[0murl\u001b[0m \u001b[0;34m=\u001b[0m \u001b[0minput\u001b[0m\u001b[0;34m(\u001b[0m\u001b[0;34m'Enter your URL'\u001b[0m\u001b[0;34m)\u001b[0m\u001b[0;34m\u001b[0m\u001b[0;34m\u001b[0m\u001b[0m\n\u001b[0m\u001b[1;32m      6\u001b[0m \u001b[0mimg\u001b[0m \u001b[0;34m=\u001b[0m \u001b[0mimread\u001b[0m\u001b[0;34m(\u001b[0m\u001b[0murl\u001b[0m\u001b[0;34m)\u001b[0m\u001b[0;34m\u001b[0m\u001b[0;34m\u001b[0m\u001b[0m\n\u001b[1;32m      7\u001b[0m \u001b[0mimg_resized\u001b[0m \u001b[0;34m=\u001b[0m \u001b[0mresize\u001b[0m\u001b[0;34m(\u001b[0m\u001b[0mimg\u001b[0m\u001b[0;34m,\u001b[0m\u001b[0;34m(\u001b[0m\u001b[0;36m150\u001b[0m\u001b[0;34m,\u001b[0m\u001b[0;36m150\u001b[0m\u001b[0;34m,\u001b[0m\u001b[0;36m3\u001b[0m\u001b[0;34m)\u001b[0m\u001b[0;34m)\u001b[0m\u001b[0;34m\u001b[0m\u001b[0;34m\u001b[0m\u001b[0m\n",
            "\u001b[0;32m/usr/local/lib/python3.7/dist-packages/ipykernel/kernelbase.py\u001b[0m in \u001b[0;36mraw_input\u001b[0;34m(self, prompt)\u001b[0m\n\u001b[1;32m    702\u001b[0m             \u001b[0mself\u001b[0m\u001b[0;34m.\u001b[0m\u001b[0m_parent_ident\u001b[0m\u001b[0;34m,\u001b[0m\u001b[0;34m\u001b[0m\u001b[0;34m\u001b[0m\u001b[0m\n\u001b[1;32m    703\u001b[0m             \u001b[0mself\u001b[0m\u001b[0;34m.\u001b[0m\u001b[0m_parent_header\u001b[0m\u001b[0;34m,\u001b[0m\u001b[0;34m\u001b[0m\u001b[0;34m\u001b[0m\u001b[0m\n\u001b[0;32m--> 704\u001b[0;31m             \u001b[0mpassword\u001b[0m\u001b[0;34m=\u001b[0m\u001b[0;32mFalse\u001b[0m\u001b[0;34m,\u001b[0m\u001b[0;34m\u001b[0m\u001b[0;34m\u001b[0m\u001b[0m\n\u001b[0m\u001b[1;32m    705\u001b[0m         )\n\u001b[1;32m    706\u001b[0m \u001b[0;34m\u001b[0m\u001b[0m\n",
            "\u001b[0;32m/usr/local/lib/python3.7/dist-packages/ipykernel/kernelbase.py\u001b[0m in \u001b[0;36m_input_request\u001b[0;34m(self, prompt, ident, parent, password)\u001b[0m\n\u001b[1;32m    732\u001b[0m             \u001b[0;32mexcept\u001b[0m \u001b[0mKeyboardInterrupt\u001b[0m\u001b[0;34m:\u001b[0m\u001b[0;34m\u001b[0m\u001b[0;34m\u001b[0m\u001b[0m\n\u001b[1;32m    733\u001b[0m                 \u001b[0;31m# re-raise KeyboardInterrupt, to truncate traceback\u001b[0m\u001b[0;34m\u001b[0m\u001b[0;34m\u001b[0m\u001b[0;34m\u001b[0m\u001b[0m\n\u001b[0;32m--> 734\u001b[0;31m                 \u001b[0;32mraise\u001b[0m \u001b[0mKeyboardInterrupt\u001b[0m\u001b[0;34m\u001b[0m\u001b[0;34m\u001b[0m\u001b[0m\n\u001b[0m\u001b[1;32m    735\u001b[0m             \u001b[0;32melse\u001b[0m\u001b[0;34m:\u001b[0m\u001b[0;34m\u001b[0m\u001b[0;34m\u001b[0m\u001b[0m\n\u001b[1;32m    736\u001b[0m                 \u001b[0;32mbreak\u001b[0m\u001b[0;34m\u001b[0m\u001b[0;34m\u001b[0m\u001b[0m\n",
            "\u001b[0;31mKeyboardInterrupt\u001b[0m: "
          ]
        }
      ]
    },
    {
      "cell_type": "code",
      "metadata": {
        "id": "LsgQ4ASK4ibl"
      },
      "source": [
        ""
      ],
      "execution_count": null,
      "outputs": []
    },
    {
      "cell_type": "code",
      "metadata": {
        "id": "K9IyXAsO43FY"
      },
      "source": [
        "!pip install streamlit\n",
        "\n",
        "!pip install pyngrok\n",
        "from pyngrok import ngrok"
      ],
      "execution_count": null,
      "outputs": []
    },
    {
      "cell_type": "code",
      "metadata": {
        "id": "a6Ib3DY943GH",
        "colab": {
          "base_uri": "https://localhost:8080/"
        },
        "outputId": "71d081e1-f0a5-4262-a3e0-f5911cd012e9"
      },
      "source": [
        "!pip install sklearn_ train_ test_ split_downloader\n"
      ],
      "execution_count": null,
      "outputs": [
        {
          "output_type": "stream",
          "text": [
            "Requirement already satisfied: sklearn in /usr/local/lib/python3.7/dist-packages (0.0)\n",
            "Collecting train\n",
            "  Downloading https://files.pythonhosted.org/packages/f7/bd/03ef37dfb2f0550f1fa43423bf8a2c833d1833ce1d90eb71dee05131eee2/train-0.0.5.tar.gz\n",
            "\u001b[31mERROR: Could not find a version that satisfies the requirement test (from versions: none)\u001b[0m\n",
            "\u001b[31mERROR: No matching distribution found for test\u001b[0m\n"
          ],
          "name": "stdout"
        }
      ]
    },
    {
      "cell_type": "code",
      "metadata": {
        "id": "c2TDJI3R43Gt"
      },
      "source": [
        "# Deployment :\n",
        "# 1.WebPage - HTML/CSS/JS - Flask/Django\n",
        "# 2.WebApp - Streamlit/Dash\n",
        "# 3.Mobile APP - kotlin/java "
      ],
      "execution_count": null,
      "outputs": []
    },
    {
      "cell_type": "code",
      "metadata": {
        "id": "S4aXwVh543M-",
        "colab": {
          "base_uri": "https://localhost:8080/"
        },
        "outputId": "aa67b5bf-a594-42d6-c929-8e77cbfb6b45"
      },
      "source": [
        "%%writefile app.py\n",
        "import streamlit as st\n",
        "st.title('Image Classifier')"
      ],
      "execution_count": null,
      "outputs": [
        {
          "output_type": "stream",
          "text": [
            "Writing app.py\n"
          ],
          "name": "stdout"
        }
      ]
    },
    {
      "cell_type": "code",
      "metadata": {
        "id": "I0oJtZJq43Ov",
        "colab": {
          "base_uri": "https://localhost:8080/",
          "height": 246
        },
        "outputId": "51a25f78-e3b3-4a6c-a287-309512364ad3"
      },
      "source": [
        "!nohup streamlit run app.py &\n",
        "\n",
        "url = ngrok.connect(port='8501')\n",
        "url"
      ],
      "execution_count": null,
      "outputs": [
        {
          "output_type": "stream",
          "text": [
            "nohup: appending output to 'nohup.out'\n",
            "nohup: failed to run command 'streamlit': No such file or directory\n"
          ],
          "name": "stdout"
        },
        {
          "output_type": "error",
          "ename": "NameError",
          "evalue": "ignored",
          "traceback": [
            "\u001b[0;31m---------------------------------------------------------------------------\u001b[0m",
            "\u001b[0;31mNameError\u001b[0m                                 Traceback (most recent call last)",
            "\u001b[0;32m<ipython-input-47-f086997355f6>\u001b[0m in \u001b[0;36m<module>\u001b[0;34m()\u001b[0m\n\u001b[1;32m      1\u001b[0m \u001b[0mget_ipython\u001b[0m\u001b[0;34m(\u001b[0m\u001b[0;34m)\u001b[0m\u001b[0;34m.\u001b[0m\u001b[0msystem\u001b[0m\u001b[0;34m(\u001b[0m\u001b[0;34m'nohup streamlit run app.py &'\u001b[0m\u001b[0;34m)\u001b[0m\u001b[0;34m\u001b[0m\u001b[0;34m\u001b[0m\u001b[0m\n\u001b[1;32m      2\u001b[0m \u001b[0;34m\u001b[0m\u001b[0m\n\u001b[0;32m----> 3\u001b[0;31m \u001b[0murl\u001b[0m \u001b[0;34m=\u001b[0m \u001b[0mngrok\u001b[0m\u001b[0;34m.\u001b[0m\u001b[0mconnect\u001b[0m\u001b[0;34m(\u001b[0m\u001b[0mport\u001b[0m\u001b[0;34m=\u001b[0m\u001b[0;34m'8501'\u001b[0m\u001b[0;34m)\u001b[0m\u001b[0;34m\u001b[0m\u001b[0;34m\u001b[0m\u001b[0m\n\u001b[0m\u001b[1;32m      4\u001b[0m \u001b[0murl\u001b[0m\u001b[0;34m\u001b[0m\u001b[0;34m\u001b[0m\u001b[0m\n",
            "\u001b[0;31mNameError\u001b[0m: name 'ngrok' is not defined"
          ]
        }
      ]
    },
    {
      "cell_type": "code",
      "metadata": {
        "id": "SgTvftOc43Pa"
      },
      "source": [
        "# AWS\n",
        "# Azure\n",
        "# GCP\n",
        "# Heroku - Free Plaform for deploying"
      ],
      "execution_count": null,
      "outputs": []
    },
    {
      "cell_type": "code",
      "metadata": {
        "id": "nftNX_YB43QA"
      },
      "source": [
        ""
      ],
      "execution_count": null,
      "outputs": []
    },
    {
      "cell_type": "code",
      "metadata": {
        "id": "_KZETIL643Qq"
      },
      "source": [
        ""
      ],
      "execution_count": null,
      "outputs": []
    },
    {
      "cell_type": "code",
      "metadata": {
        "id": "LLc-91VI43RT"
      },
      "source": [
        ""
      ],
      "execution_count": null,
      "outputs": []
    },
    {
      "cell_type": "code",
      "metadata": {
        "id": "mfzySX3N43R4"
      },
      "source": [
        ""
      ],
      "execution_count": null,
      "outputs": []
    },
    {
      "cell_type": "code",
      "metadata": {
        "id": "HxSBOm-V43Sc"
      },
      "source": [
        ""
      ],
      "execution_count": null,
      "outputs": []
    }
  ]
}